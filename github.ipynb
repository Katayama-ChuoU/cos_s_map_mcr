{
  "nbformat": 4,
  "nbformat_minor": 0,
  "metadata": {
    "colab": {
      "name": "github.ipynb",
      "provenance": [],
      "include_colab_link": true
    },
    "kernelspec": {
      "name": "python3",
      "display_name": "Python 3"
    }
  },
  "cells": [
    {
      "cell_type": "markdown",
      "metadata": {
        "id": "view-in-github",
        "colab_type": "text"
      },
      "source": [
        "<a href=\"https://colab.research.google.com/github/Katayama-ChuoU/cos_s_map_mcr/blob/main/github.ipynb\" target=\"_parent\"><img src=\"https://colab.research.google.com/assets/colab-badge.svg\" alt=\"Open In Colab\"/></a>"
      ]
    },
    {
      "cell_type": "markdown",
      "metadata": {
        "id": "1BuYijKdBuZ4"
      },
      "source": [
        "# GitHubとの連携\n",
        "Google ColaboratoryとGitHubの連携について学びましょう。"
      ]
    },
    {
      "cell_type": "markdown",
      "metadata": {
        "id": "xqElL-k0IcqR"
      },
      "source": [
        "## ●Githubとは？\n",
        "GitHubは、今や開発者にとってなくてはならないサービスです。  \n",
        "「Git」は、プログラミングによるサービス開発の現場などでよく使われている「バージョン管理システム」です。  \n",
        "そして、GitHubは、Gitの仕組みを利用して、世界中の人々が自分のプロダクトを共有、公開することができるようにしたウェブサービス名です。  \n",
        "GitHubで作成されたリポジトリ（貯蔵庫のようなもの）は、無料の場合誰にでも公開されますが、有料の場合は指定したユーザーのみがアクセスできるプライベートなレポジトリを作ることができます。  \n",
        "GitHubは、TensorFlowやKerasなどのオープンソースプロジェクトの公開にも利用されています。  \n"
      ]
    },
    {
      "cell_type": "markdown",
      "metadata": {
        "id": "hxHImP-OVuW9"
      },
      "source": [
        "## ●ノートブックをGitHubで公開する\n",
        "ノートブックをGitHubにアップすることにより、ノートブックを一般に公開したり、チーム内で共有することができます。  \n",
        "GitHubで新しくレポジトリを作った上で、このノートブックをGitHubにアップしてみましょう。  \n",
        "以下はダミーのコードです。  "
      ]
    },
    {
      "cell_type": "code",
      "metadata": {
        "id": "NxQZ-mwEBsCC"
      },
      "source": [
        "import numpy as np\n",
        "import matplotlib.pyplot as plt\n",
        "import keras\n",
        "from keras.datasets import cifar10\n",
        "from keras.models import Sequential\n",
        "from keras.layers import Dense, Dropout, Activation, Flatten\n",
        "from keras.layers import Conv2D, MaxPooling2D\n",
        "from keras.optimizers import Adam\n",
        "\n",
        "(x_train, t_train), (x_test, t_test) = cifar10.load_data()\n",
        "\n",
        "batch_size = 32\n",
        "epochs = 1\n",
        "n_class = 10\n",
        "\n",
        "t_train = keras.utils.to_categorical(t_train, n_class)\n",
        "t_test = keras.utils.to_categorical(t_test, n_class)\n",
        "\n",
        "model = Sequential()\n",
        "\n",
        "model.add(Conv2D(32, (3, 3), padding='same', input_shape=x_train.shape[1:]))\n",
        "model.add(Activation('relu'))\n",
        "model.add(Conv2D(32, (3, 3)))\n",
        "model.add(Activation('relu'))\n",
        "model.add(MaxPooling2D(pool_size=(2, 2)))\n",
        "\n",
        "model.add(Conv2D(64, (3, 3), padding='same'))\n",
        "model.add(Activation('relu'))\n",
        "model.add(Conv2D(64, (3, 3)))\n",
        "model.add(Activation('relu'))\n",
        "model.add(MaxPooling2D(pool_size=(2, 2)))\n",
        "\n",
        "model.add(Flatten())\n",
        "model.add(Dense(256))\n",
        "model.add(Activation('relu'))\n",
        "model.add(Dropout(0.5))\n",
        "model.add(Dense(n_class))\n",
        "model.add(Activation('softmax'))\n",
        "\n",
        "model.compile(optimizer=Adam(), loss='categorical_crossentropy', metrics=['accuracy'])\n",
        "\n",
        "x_train = x_train / 255\n",
        "x_test = x_test / 255\n",
        "\n",
        "model.fit(x_train, t_train, epochs=epochs, batch_size=batch_size, validation_data=(x_test, t_test))"
      ],
      "execution_count": null,
      "outputs": []
    }
  ]
}